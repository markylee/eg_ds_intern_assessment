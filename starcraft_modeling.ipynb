{
 "cells": [
  {
   "attachments": {},
   "cell_type": "markdown",
   "metadata": {},
   "source": [
    "## Predictive Modeling on Starcraft Data\n",
    "This notebook aims to perform specific classification methods to predict LeagueIndex. As LeagueIndex contains values from 1 to 8, certain methods don't really make sense in the context of this problem statement. For example, logistic regression is a binary classifier, and this wouldn't be applicable for the problem statement. Additionally, the presence of missing data for the LeagueIndex 8 players means that there must also be some modifications to the data or else some methods won't work at all. Upon researching potential methods, I settled on two for the sake of this assessment: one \"simple\" and one more complex. I chose a Naive Bayes classification as well as XGBoost, as those were the ones that seemed most appealing while also being quite different in methodology. \n",
    "\n",
    "### Filling in missing data\n",
    "With missing data points, I attempt to fill in the gaps in order to make the most accurate model. For age, it seems as though the ages stay relatively the same throughout all LeagueIndices, so I will simply take the median age to fill in the missing values. However, for the other features that have missing features it seems that there is a linear or exponential growth as the LeagueIndex increases. For that, I will use different methods to fill in the gap. "
   ]
  },
  {
   "cell_type": "code",
   "execution_count": 14,
   "metadata": {},
   "outputs": [
    {
     "name": "stderr",
     "output_type": "stream",
     "text": [
      "C:\\Users\\MarkLee\\AppData\\Local\\Temp\\ipykernel_3576\\2557462944.py:20: SettingWithCopyWarning: \n",
      "A value is trying to be set on a copy of a slice from a DataFrame\n",
      "\n",
      "See the caveats in the documentation: https://pandas.pydata.org/pandas-docs/stable/user_guide/indexing.html#returning-a-view-versus-a-copy\n",
      "  train.drop('TotalHours', axis = 1, inplace = True)\n",
      "C:\\Users\\MarkLee\\AppData\\Local\\Temp\\ipykernel_3576\\2557462944.py:22: SettingWithCopyWarning: \n",
      "A value is trying to be set on a copy of a slice from a DataFrame\n",
      "\n",
      "See the caveats in the documentation: https://pandas.pydata.org/pandas-docs/stable/user_guide/indexing.html#returning-a-view-versus-a-copy\n",
      "  test.drop(\"TotalHours\", axis = 1, inplace = True)\n",
      "C:\\Users\\MarkLee\\AppData\\Local\\Temp\\ipykernel_3576\\2557462944.py:24: SettingWithCopyWarning: \n",
      "A value is trying to be set on a copy of a slice from a DataFrame.\n",
      "Try using .loc[row_indexer,col_indexer] = value instead\n",
      "\n",
      "See the caveats in the documentation: https://pandas.pydata.org/pandas-docs/stable/user_guide/indexing.html#returning-a-view-versus-a-copy\n",
      "  test['TotalHours'] = pred\n"
     ]
    }
   ],
   "source": [
    "import numpy as np \n",
    "import pandas as pd\n",
    "import load_data\n",
    "from sklearn.linear_model import LinearRegression\n",
    "\n",
    "#get data from local machine\n",
    "spd = load_data.load_everything()\n",
    "spd = spd.apply(pd.to_numeric, downcast = 'float')\n",
    "\n",
    "#fill age with median age \n",
    "spd['Age'] = spd['Age'].fillna(spd['Age'].median())\n",
    "\n",
    "#fill TotalHours with \n",
    "\n",
    "#spd = spd.to_numpy()\n"
   ]
  },
  {
   "attachments": {},
   "cell_type": "markdown",
   "metadata": {},
   "source": [
    "### Naive Bayes Multinomial Classification"
   ]
  },
  {
   "cell_type": "code",
   "execution_count": 5,
   "metadata": {},
   "outputs": [],
   "source": [
    "\n",
    "from sklearn.naive_bayes import MultinomialNB\n",
    "\n",
    "np.random.seed(1)\n",
    "\n",
    "#get data from local machine\n",
    "spd = load_data.load_everything()\n",
    "spd = spd.to_numpy()\n",
    "# #split data into target x and y \n",
    "# Y = spd[:,1] \n",
    "X = spd[:,2:-1]\n",
    "# # print(X)\n",
    "# # print(Y)\n",
    "\n",
    "# # create and train the model\n",
    "# model = MultinomialNB(alpha = 1) \n",
    "# model.fit(X,Y) \n",
    "# Y_pred = model.predict(X) \n",
    "# acc_train = model.score(X,Y) \n",
    "# print(\"Accuracy = %0.4f \" % acc_train)\n"
   ]
  },
  {
   "cell_type": "code",
   "execution_count": 7,
   "metadata": {},
   "outputs": [
    {
     "ename": "AttributeError",
     "evalue": "module 'numpy' has no attribute 'float'.\n`np.float` was a deprecated alias for the builtin `float`. To avoid this error in existing code, use `float` by itself. Doing this will not modify any behavior and is safe. If you specifically wanted the numpy scalar type, use `np.float64` here.\nThe aliases was originally deprecated in NumPy 1.20; for more details and guidance see the original release note at:\n    https://numpy.org/devdocs/release/1.20.0-notes.html#deprecations",
     "output_type": "error",
     "traceback": [
      "\u001b[1;31m---------------------------------------------------------------------------\u001b[0m",
      "\u001b[1;31mAttributeError\u001b[0m                            Traceback (most recent call last)",
      "\u001b[1;32mc:\\Users\\MarkLee\\Documents\\eg_ds_intern_assessment\\starcraft_modeling.ipynb Cell 3\u001b[0m in \u001b[0;36m<cell line: 5>\u001b[1;34m()\u001b[0m\n\u001b[0;32m      <a href='vscode-notebook-cell:/c%3A/Users/MarkLee/Documents/eg_ds_intern_assessment/starcraft_modeling.ipynb#W3sZmlsZQ%3D%3D?line=1'>2</a>\u001b[0m \u001b[39mimport\u001b[39;00m \u001b[39msys\u001b[39;00m\n\u001b[0;32m      <a href='vscode-notebook-cell:/c%3A/Users/MarkLee/Documents/eg_ds_intern_assessment/starcraft_modeling.ipynb#W3sZmlsZQ%3D%3D?line=2'>3</a>\u001b[0m sys\u001b[39m.\u001b[39msetrecursionlimit(\u001b[39m100000\u001b[39m)\n\u001b[1;32m----> <a href='vscode-notebook-cell:/c%3A/Users/MarkLee/Documents/eg_ds_intern_assessment/starcraft_modeling.ipynb#W3sZmlsZQ%3D%3D?line=4'>5</a>\u001b[0m imputed_training \u001b[39m=\u001b[39m fast_knn(X, k \u001b[39m=\u001b[39;49m \u001b[39m30\u001b[39;49m)\n",
      "File \u001b[1;32mc:\\Users\\MarkLee\\Documents\\eg_ds_intern_assessment\\.conda\\lib\\site-packages\\impyute\\util\\preprocess.py:55\u001b[0m, in \u001b[0;36mpreprocess.<locals>.wrapper\u001b[1;34m(*args, **kwargs)\u001b[0m\n\u001b[0;32m     53\u001b[0m     \u001b[39mreturn\u001b[39;00m pd_DataFrame(fn(\u001b[39m*\u001b[39margs, \u001b[39m*\u001b[39m\u001b[39m*\u001b[39mkwargs))\n\u001b[0;32m     54\u001b[0m \u001b[39melse\u001b[39;00m:\n\u001b[1;32m---> 55\u001b[0m     \u001b[39mreturn\u001b[39;00m fn(\u001b[39m*\u001b[39margs, \u001b[39m*\u001b[39m\u001b[39m*\u001b[39mkwargs)\n",
      "File \u001b[1;32mc:\\Users\\MarkLee\\Documents\\eg_ds_intern_assessment\\.conda\\lib\\site-packages\\impyute\\util\\checks.py:32\u001b[0m, in \u001b[0;36mchecks.<locals>.wrapper\u001b[1;34m(*args, **kwargs)\u001b[0m\n\u001b[0;32m     30\u001b[0m \u001b[39melif\u001b[39;00m \u001b[39mnot\u001b[39;00m _is_ndarray(data):\n\u001b[0;32m     31\u001b[0m     \u001b[39mraise\u001b[39;00m BadInputError(\u001b[39m\"\u001b[39m\u001b[39mNot a np.ndarray.\u001b[39m\u001b[39m\"\u001b[39m)\n\u001b[1;32m---> 32\u001b[0m \u001b[39melif\u001b[39;00m \u001b[39mnot\u001b[39;00m _dtype_float(data):\n\u001b[0;32m     33\u001b[0m     \u001b[39mraise\u001b[39;00m BadInputError(\u001b[39m\"\u001b[39m\u001b[39mData is not float.\u001b[39m\u001b[39m\"\u001b[39m)\n\u001b[0;32m     34\u001b[0m \u001b[39melif\u001b[39;00m \u001b[39mnot\u001b[39;00m _nan_exists(data):\n",
      "File \u001b[1;32mc:\\Users\\MarkLee\\Documents\\eg_ds_intern_assessment\\.conda\\lib\\site-packages\\impyute\\util\\checks.py:53\u001b[0m, in \u001b[0;36m_dtype_float\u001b[1;34m(data)\u001b[0m\n\u001b[0;32m     51\u001b[0m \u001b[39mdef\u001b[39;00m \u001b[39m_dtype_float\u001b[39m(data):\n\u001b[0;32m     52\u001b[0m \u001b[39m    \u001b[39m\u001b[39m\"\"\" True if the values in the array are floating point\"\"\"\u001b[39;00m\n\u001b[1;32m---> 53\u001b[0m     \u001b[39mreturn\u001b[39;00m data\u001b[39m.\u001b[39mdtype \u001b[39m==\u001b[39m np\u001b[39m.\u001b[39;49mfloat\n",
      "File \u001b[1;32mc:\\Users\\MarkLee\\Documents\\eg_ds_intern_assessment\\.conda\\lib\\site-packages\\numpy\\__init__.py:305\u001b[0m, in \u001b[0;36m__getattr__\u001b[1;34m(attr)\u001b[0m\n\u001b[0;32m    300\u001b[0m     warnings\u001b[39m.\u001b[39mwarn(\n\u001b[0;32m    301\u001b[0m         \u001b[39mf\u001b[39m\u001b[39m\"\u001b[39m\u001b[39mIn the future `np.\u001b[39m\u001b[39m{\u001b[39;00mattr\u001b[39m}\u001b[39;00m\u001b[39m` will be defined as the \u001b[39m\u001b[39m\"\u001b[39m\n\u001b[0;32m    302\u001b[0m         \u001b[39m\"\u001b[39m\u001b[39mcorresponding NumPy scalar.\u001b[39m\u001b[39m\"\u001b[39m, \u001b[39mFutureWarning\u001b[39;00m, stacklevel\u001b[39m=\u001b[39m\u001b[39m2\u001b[39m)\n\u001b[0;32m    304\u001b[0m \u001b[39mif\u001b[39;00m attr \u001b[39min\u001b[39;00m __former_attrs__:\n\u001b[1;32m--> 305\u001b[0m     \u001b[39mraise\u001b[39;00m \u001b[39mAttributeError\u001b[39;00m(__former_attrs__[attr])\n\u001b[0;32m    307\u001b[0m \u001b[39m# Importing Tester requires importing all of UnitTest which is not a\u001b[39;00m\n\u001b[0;32m    308\u001b[0m \u001b[39m# cheap import Since it is mainly used in test suits, we lazy import it\u001b[39;00m\n\u001b[0;32m    309\u001b[0m \u001b[39m# here to save on the order of 10 ms of import time for most users\u001b[39;00m\n\u001b[0;32m    310\u001b[0m \u001b[39m#\u001b[39;00m\n\u001b[0;32m    311\u001b[0m \u001b[39m# The previous way Tester was imported also had a side effect of adding\u001b[39;00m\n\u001b[0;32m    312\u001b[0m \u001b[39m# the full `numpy.testing` namespace\u001b[39;00m\n\u001b[0;32m    313\u001b[0m \u001b[39mif\u001b[39;00m attr \u001b[39m==\u001b[39m \u001b[39m'\u001b[39m\u001b[39mtesting\u001b[39m\u001b[39m'\u001b[39m:\n",
      "\u001b[1;31mAttributeError\u001b[0m: module 'numpy' has no attribute 'float'.\n`np.float` was a deprecated alias for the builtin `float`. To avoid this error in existing code, use `float` by itself. Doing this will not modify any behavior and is safe. If you specifically wanted the numpy scalar type, use `np.float64` here.\nThe aliases was originally deprecated in NumPy 1.20; for more details and guidance see the original release note at:\n    https://numpy.org/devdocs/release/1.20.0-notes.html#deprecations"
     ]
    }
   ],
   "source": [
    "from sklearn.impute import KNNImputer\n",
    "fea_transformer = KNNImputer(n_neighbors = 3)\n",
    "values = fea_transformer.fit_tansofrm\n"
   ]
  }
 ],
 "metadata": {
  "kernelspec": {
   "display_name": "Python 3",
   "language": "python",
   "name": "python3"
  },
  "language_info": {
   "codemirror_mode": {
    "name": "ipython",
    "version": 3
   },
   "file_extension": ".py",
   "mimetype": "text/x-python",
   "name": "python",
   "nbconvert_exporter": "python",
   "pygments_lexer": "ipython3",
   "version": "3.10.11"
  },
  "orig_nbformat": 4
 },
 "nbformat": 4,
 "nbformat_minor": 2
}
