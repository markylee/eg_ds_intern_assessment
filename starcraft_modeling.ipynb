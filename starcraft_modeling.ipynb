{
 "cells": [
  {
   "attachments": {},
   "cell_type": "markdown",
   "metadata": {},
   "source": [
    "## Predictive Modeling on Starcraft Data\n",
    "This notebook aims to perform specific classification methods to predict LeagueIndex. As LeagueIndex contains values from 1 to 8, certain methods don't really make sense in the context of this problem statement. For example, logistic regression is a binary classifier, and this wouldn't be applicable for the problem statement. Additionally, the presence of missing data for the LeagueIndex 8 players means that there must also be some modifications to the data or else some methods won't work at all. Upon researching potential methods, I settled on two for the sake of this assessment: one \"simple\" and one more complex. I chose a Naive Bayes classification as well as XGBoost, as those were the ones that seemed most appealing while also being quite different in methodology. \n",
    "\n",
    "### What to do with missing data\n",
    "With missing data points, I attempt to fill in the gaps in order to make the most accurate model. For Age, it seems as though the ages stay relatively the same throughout all LeagueIndices, so I will simply take the median age to fill in the missing values. When looking at HoursPerWeek, it doesn't seem to have a clearcut impact until the higher LeagueIndices, so predicting a rank accurately from LeagueIndex 1-5 based on HoursPerWeek sounds difficult. Thus, I have chosen to remove HoursPerWeek from the prediction model. However, we must fill the last column with missing values: TotalHours. It makes sense from a logical standpoint that someone who spends more time playing total will be better. However, due to the large skew in TotalHours, as it is quite larger than every other data point present. "
   ]
  },
  {
   "cell_type": "code",
   "execution_count": 137,
   "metadata": {},
   "outputs": [
    {
     "data": {
      "text/html": [
       "<div>\n",
       "<style scoped>\n",
       "    .dataframe tbody tr th:only-of-type {\n",
       "        vertical-align: middle;\n",
       "    }\n",
       "\n",
       "    .dataframe tbody tr th {\n",
       "        vertical-align: top;\n",
       "    }\n",
       "\n",
       "    .dataframe thead th {\n",
       "        text-align: right;\n",
       "    }\n",
       "</style>\n",
       "<table border=\"1\" class=\"dataframe\">\n",
       "  <thead>\n",
       "    <tr style=\"text-align: right;\">\n",
       "      <th></th>\n",
       "      <th>LeagueIndex</th>\n",
       "      <th>Age</th>\n",
       "      <th>HoursPerWeek</th>\n",
       "      <th>TotalHours</th>\n",
       "      <th>APM</th>\n",
       "      <th>SelectByHotkeys</th>\n",
       "      <th>AssignToHotkeys</th>\n",
       "      <th>UniqueHotkeys</th>\n",
       "      <th>MinimapAttacks</th>\n",
       "      <th>MinimapRightClicks</th>\n",
       "      <th>NumberOfPACs</th>\n",
       "      <th>GapBetweenPACs</th>\n",
       "      <th>ActionLatency</th>\n",
       "      <th>ActionsInPAC</th>\n",
       "      <th>TotalMapExplored</th>\n",
       "      <th>WorkersMade</th>\n",
       "      <th>UniqueUnitsMade</th>\n",
       "      <th>ComplexUnitsMade</th>\n",
       "      <th>ComplexAbilitiesUsed</th>\n",
       "    </tr>\n",
       "  </thead>\n",
       "  <tbody>\n",
       "    <tr>\n",
       "      <th>0</th>\n",
       "      <td>5.0</td>\n",
       "      <td>27.0</td>\n",
       "      <td>10.0</td>\n",
       "      <td>3000.0</td>\n",
       "      <td>143.718002</td>\n",
       "      <td>0.003515</td>\n",
       "      <td>0.000220</td>\n",
       "      <td>7.0</td>\n",
       "      <td>0.000110</td>\n",
       "      <td>0.000392</td>\n",
       "      <td>0.004849</td>\n",
       "      <td>32.667702</td>\n",
       "      <td>40.867298</td>\n",
       "      <td>4.7508</td>\n",
       "      <td>28.0</td>\n",
       "      <td>0.001397</td>\n",
       "      <td>6.0</td>\n",
       "      <td>0.0</td>\n",
       "      <td>0.000000</td>\n",
       "    </tr>\n",
       "    <tr>\n",
       "      <th>1</th>\n",
       "      <td>5.0</td>\n",
       "      <td>23.0</td>\n",
       "      <td>10.0</td>\n",
       "      <td>5000.0</td>\n",
       "      <td>129.232193</td>\n",
       "      <td>0.003304</td>\n",
       "      <td>0.000259</td>\n",
       "      <td>4.0</td>\n",
       "      <td>0.000294</td>\n",
       "      <td>0.000432</td>\n",
       "      <td>0.004307</td>\n",
       "      <td>32.919399</td>\n",
       "      <td>42.345402</td>\n",
       "      <td>4.8434</td>\n",
       "      <td>22.0</td>\n",
       "      <td>0.001194</td>\n",
       "      <td>5.0</td>\n",
       "      <td>0.0</td>\n",
       "      <td>0.000208</td>\n",
       "    </tr>\n",
       "    <tr>\n",
       "      <th>2</th>\n",
       "      <td>4.0</td>\n",
       "      <td>30.0</td>\n",
       "      <td>10.0</td>\n",
       "      <td>200.0</td>\n",
       "      <td>69.961197</td>\n",
       "      <td>0.001101</td>\n",
       "      <td>0.000336</td>\n",
       "      <td>4.0</td>\n",
       "      <td>0.000294</td>\n",
       "      <td>0.000461</td>\n",
       "      <td>0.002926</td>\n",
       "      <td>44.647499</td>\n",
       "      <td>75.354797</td>\n",
       "      <td>4.0430</td>\n",
       "      <td>22.0</td>\n",
       "      <td>0.000745</td>\n",
       "      <td>6.0</td>\n",
       "      <td>0.0</td>\n",
       "      <td>0.000189</td>\n",
       "    </tr>\n",
       "    <tr>\n",
       "      <th>3</th>\n",
       "      <td>3.0</td>\n",
       "      <td>19.0</td>\n",
       "      <td>20.0</td>\n",
       "      <td>400.0</td>\n",
       "      <td>107.601601</td>\n",
       "      <td>0.001034</td>\n",
       "      <td>0.000213</td>\n",
       "      <td>1.0</td>\n",
       "      <td>0.000053</td>\n",
       "      <td>0.000543</td>\n",
       "      <td>0.003783</td>\n",
       "      <td>29.220301</td>\n",
       "      <td>53.735199</td>\n",
       "      <td>4.9155</td>\n",
       "      <td>19.0</td>\n",
       "      <td>0.000426</td>\n",
       "      <td>7.0</td>\n",
       "      <td>0.0</td>\n",
       "      <td>0.000384</td>\n",
       "    </tr>\n",
       "    <tr>\n",
       "      <th>4</th>\n",
       "      <td>3.0</td>\n",
       "      <td>32.0</td>\n",
       "      <td>10.0</td>\n",
       "      <td>500.0</td>\n",
       "      <td>122.890800</td>\n",
       "      <td>0.001136</td>\n",
       "      <td>0.000327</td>\n",
       "      <td>2.0</td>\n",
       "      <td>0.000000</td>\n",
       "      <td>0.001329</td>\n",
       "      <td>0.002368</td>\n",
       "      <td>22.688499</td>\n",
       "      <td>62.081299</td>\n",
       "      <td>9.3740</td>\n",
       "      <td>15.0</td>\n",
       "      <td>0.001174</td>\n",
       "      <td>4.0</td>\n",
       "      <td>0.0</td>\n",
       "      <td>0.000019</td>\n",
       "    </tr>\n",
       "  </tbody>\n",
       "</table>\n",
       "</div>"
      ],
      "text/plain": [
       "   LeagueIndex   Age  HoursPerWeek  TotalHours         APM  SelectByHotkeys   \n",
       "0          5.0  27.0          10.0      3000.0  143.718002         0.003515  \\\n",
       "1          5.0  23.0          10.0      5000.0  129.232193         0.003304   \n",
       "2          4.0  30.0          10.0       200.0   69.961197         0.001101   \n",
       "3          3.0  19.0          20.0       400.0  107.601601         0.001034   \n",
       "4          3.0  32.0          10.0       500.0  122.890800         0.001136   \n",
       "\n",
       "   AssignToHotkeys  UniqueHotkeys  MinimapAttacks  MinimapRightClicks   \n",
       "0         0.000220            7.0        0.000110            0.000392  \\\n",
       "1         0.000259            4.0        0.000294            0.000432   \n",
       "2         0.000336            4.0        0.000294            0.000461   \n",
       "3         0.000213            1.0        0.000053            0.000543   \n",
       "4         0.000327            2.0        0.000000            0.001329   \n",
       "\n",
       "   NumberOfPACs  GapBetweenPACs  ActionLatency  ActionsInPAC   \n",
       "0      0.004849       32.667702      40.867298        4.7508  \\\n",
       "1      0.004307       32.919399      42.345402        4.8434   \n",
       "2      0.002926       44.647499      75.354797        4.0430   \n",
       "3      0.003783       29.220301      53.735199        4.9155   \n",
       "4      0.002368       22.688499      62.081299        9.3740   \n",
       "\n",
       "   TotalMapExplored  WorkersMade  UniqueUnitsMade  ComplexUnitsMade   \n",
       "0              28.0     0.001397              6.0               0.0  \\\n",
       "1              22.0     0.001194              5.0               0.0   \n",
       "2              22.0     0.000745              6.0               0.0   \n",
       "3              19.0     0.000426              7.0               0.0   \n",
       "4              15.0     0.001174              4.0               0.0   \n",
       "\n",
       "   ComplexAbilitiesUsed  \n",
       "0              0.000000  \n",
       "1              0.000208  \n",
       "2              0.000189  \n",
       "3              0.000384  \n",
       "4              0.000019  "
      ]
     },
     "execution_count": 137,
     "metadata": {},
     "output_type": "execute_result"
    }
   ],
   "source": [
    "import numpy as np \n",
    "import pandas as pd\n",
    "import load_data\n",
    "from sklearn.linear_model import LinearRegression\n",
    "from sklearn.metrics import mean_squared_error\n",
    "import random\n",
    "\n",
    "random.seed(12345)\n",
    "#get data from local machine\n",
    "spd = load_data.load_everything()\n",
    "spd = spd.apply(pd.to_numeric, downcast = 'float')\n",
    "\n",
    "#Drop unnecessary GameID, but save it just in case \n",
    "spdID = spd['GameID']\n",
    "spd = spd.drop('GameID', axis = 1)\n",
    "\n",
    "#fill age with median age \n",
    "spd['Age'] = spd['Age'].fillna(spd['Age'].median())\n",
    "\n",
    "from sklearn.impute import KNNImputer\n",
    "\n",
    "impute = KNNImputer()\n",
    "x = impute.fit_transform(spd)\n",
    "spd_impute = pd.DataFrame(x, columns = spd.columns)\n",
    "spd_impute\n",
    "\n",
    "spd.head()"
   ]
  },
  {
   "attachments": {},
   "cell_type": "markdown",
   "metadata": {},
   "source": [
    "## Modeling with Imputed Columns\n",
    "### Random Forest Classification"
   ]
  },
  {
   "cell_type": "code",
   "execution_count": 138,
   "metadata": {},
   "outputs": [
    {
     "name": "stdout",
     "output_type": "stream",
     "text": [
      "Accuracy: 0.41%\n",
      "MAE: 0.723258\n"
     ]
    }
   ],
   "source": [
    "from sklearn.ensemble import RandomForestClassifier\n",
    "from sklearn.model_selection import train_test_split\n",
    "from sklearn import metrics\n",
    "from sklearn.metrics import mean_absolute_error\n",
    "\n",
    "\n",
    "X = spd_impute.drop(['LeagueIndex'], axis = 1).values\n",
    "y = spd_impute['LeagueIndex']\n",
    "\n",
    "X_train, X_test, y_train, y_test = train_test_split(X, y, test_size=0.3, random_state=1)\n",
    "rf = RandomForestClassifier(n_jobs = -1)\n",
    "rf.fit(X_train,y_train)\n",
    "y_pred = rf.predict(X_test)\n",
    "print(\"Accuracy: %.2f%%\" % metrics.accuracy_score(y_test, y_pred))\n",
    "print(\"MAE: %2f\" % (mean_absolute_error(y_test, y_pred)))"
   ]
  },
  {
   "attachments": {},
   "cell_type": "markdown",
   "metadata": {},
   "source": [
    "### XGBoost Classification"
   ]
  },
  {
   "cell_type": "code",
   "execution_count": 139,
   "metadata": {},
   "outputs": [
    {
     "name": "stdout",
     "output_type": "stream",
     "text": [
      "Accuracy: 23.56%\n",
      "MAE: 1.154639\n"
     ]
    }
   ],
   "source": [
    "from sklearn.model_selection import train_test_split\n",
    "from sklearn.preprocessing import LabelEncoder \n",
    "from xgboost import XGBClassifier\n",
    "import xgboost as xgb\n",
    "from sklearn.metrics import accuracy_score\n",
    "from sklearn.metrics import mean_squared_error\n",
    "\n",
    "#classification with every feature\n",
    "X = spd_impute.drop(['LeagueIndex'], axis = 1).values\n",
    "y = spd_impute['LeagueIndex']\n",
    "# print(X)\n",
    "# print(y)\n",
    "\n",
    "\n",
    "X_train, X_test, y_train, y_test = train_test_split(X, y, test_size=0.20, random_state=5)\n",
    "lc = LabelEncoder() \n",
    "y_train = lc.fit_transform(y_train)\n",
    "model = XGBClassifier() \n",
    "model.fit(X_train, y_train)\n",
    "y_pred = model.predict(X_test) \n",
    "predictions = [round(value) for value in y_pred]\n",
    "accuracy = accuracy_score(y_test, predictions) \n",
    "print(\"Accuracy: %.2f%%\" % (accuracy * 100.0))\n",
    "print(\"MAE: %2f\" % (mean_absolute_error(y_test,predictions)))"
   ]
  },
  {
   "attachments": {},
   "cell_type": "markdown",
   "metadata": {},
   "source": [
    "With the poor performances with imputed columns, this begs the question to see if we can improve performance in other methods. One method could be to transform the data into loglog. This can be done to fix the large amount of skew in a lot of the variables (as seen in the exploratory data analysis). Additionally, I want to see if removed rows for the missing data would be better as well. \n",
    "\n",
    "## Modeling with LogLog Transformation"
   ]
  },
  {
   "cell_type": "code",
   "execution_count": 140,
   "metadata": {},
   "outputs": [],
   "source": [
    "skew = spd_impute.skew(skipna = True).sort_values(ascending = False)\n",
    "skew = skew[abs(skew) > 0.75]\n",
    "#print(skew)\n",
    "skew_feat = skew.index\n",
    "lam = 0.15\n",
    "for feat in skew_feat:\n",
    "    spd_impute[feat] = np.log1p(spd_impute[feat])\n"
   ]
  },
  {
   "attachments": {},
   "cell_type": "markdown",
   "metadata": {},
   "source": [
    "### Random Forest with LogLog Transformation"
   ]
  },
  {
   "cell_type": "code",
   "execution_count": 141,
   "metadata": {},
   "outputs": [
    {
     "name": "stdout",
     "output_type": "stream",
     "text": [
      "Accuracy: 0.43473994111874387\n",
      "MAE: 0.704612\n"
     ]
    }
   ],
   "source": [
    "X = spd_impute.drop(['LeagueIndex'], axis = 1).values\n",
    "y = spd_impute['LeagueIndex']\n",
    "\n",
    "X_train, X_test, y_train, y_test = train_test_split(X, y, test_size=0.3, random_state=1)\n",
    "rf = RandomForestClassifier(n_jobs = -1)\n",
    "rf.fit(X_train,y_train)\n",
    "y_pred = rf.predict(X_test)\n",
    "print(\"Accuracy:\", metrics.accuracy_score(y_test, y_pred))\n",
    "print(\"MAE: %2f\" % (mean_absolute_error(y_test, y_pred)))"
   ]
  },
  {
   "attachments": {},
   "cell_type": "markdown",
   "metadata": {},
   "source": [
    "### XGBoost with LogLog Transformation"
   ]
  },
  {
   "cell_type": "code",
   "execution_count": 142,
   "metadata": {},
   "outputs": [
    {
     "name": "stdout",
     "output_type": "stream",
     "text": [
      "Accuracy: 23.56%\n",
      "MSE: 2.114875\n",
      "MAE: 1.154639\n"
     ]
    }
   ],
   "source": [
    "X = spd_impute.drop(['LeagueIndex'], axis = 1).values\n",
    "y = spd_impute['LeagueIndex']\n",
    "# print(X)\n",
    "# print(y)\n",
    "\n",
    "\n",
    "X_train, X_test, y_train, y_test = train_test_split(X, y, test_size=0.20, random_state=5)\n",
    "lc = LabelEncoder() \n",
    "y_train = lc.fit_transform(y_train)\n",
    "model = XGBClassifier() \n",
    "model.fit(X_train, y_train)\n",
    "y_pred = model.predict(X_test) \n",
    "predictions = [round(value) for value in y_pred]\n",
    "accuracy = accuracy_score(y_test, predictions) \n",
    "print(\"Accuracy: %.2f%%\" % (accuracy * 100.0))\n",
    "print(\"MSE: %2f\" % mean_squared_error(y_test,predictions))\n",
    "print(\"MAE: %2f\" % (mean_absolute_error(y_test,predictions)))"
   ]
  },
  {
   "attachments": {},
   "cell_type": "markdown",
   "metadata": {},
   "source": [
    "Still, the models are not performing any better than it was prior. I want to try one more thing, LogLog transformation with removal of rows instead of columns. \n",
    "\n",
    "## Modeling with missing rows and LogLog Transformation"
   ]
  },
  {
   "cell_type": "code",
   "execution_count": 154,
   "metadata": {},
   "outputs": [],
   "source": [
    "spd = load_data.load_everything()\n",
    "spd = spd.dropna(axis = 0)\n",
    "spd = spd.drop('GameID', axis = 1)\n",
    "spd = spd.apply(pd.to_numeric, downcast = 'float')\n",
    "\n",
    "#print(spd)\n",
    "\n",
    "temp = spd.drop('LeagueIndex', axis = 1)\n",
    "skew = temp.skew(skipna = True).sort_values(ascending = False)\n",
    "skew = skew[abs(skew) > 0.75]\n",
    "skew_feat = skew.index\n",
    "lam = 0.15\n",
    "for feat in skew_feat:\n",
    "    spd[feat] = np.log1p(spd[feat])"
   ]
  },
  {
   "cell_type": "code",
   "execution_count": 155,
   "metadata": {},
   "outputs": [
    {
     "name": "stdout",
     "output_type": "stream",
     "text": [
      "Accuracy: 0.3812375249500998\n",
      "MAE: 0.797405\n"
     ]
    }
   ],
   "source": [
    "X = spd.drop(['LeagueIndex'], axis = 1).values\n",
    "y = spd['LeagueIndex']\n",
    "\n",
    "X_train, X_test, y_train, y_test = train_test_split(X, y, test_size=0.3, random_state=1)\n",
    "rf = RandomForestClassifier(n_jobs = -1)\n",
    "rf.fit(X_train,y_train)\n",
    "y_pred = rf.predict(X_test)\n",
    "print(\"Accuracy:\", metrics.accuracy_score(y_test, y_pred))\n",
    "print(\"MAE: %2f\" % (mean_absolute_error(y_test, y_pred)))"
   ]
  }
 ],
 "metadata": {
  "kernelspec": {
   "display_name": "Python 3",
   "language": "python",
   "name": "python3"
  },
  "language_info": {
   "codemirror_mode": {
    "name": "ipython",
    "version": 3
   },
   "file_extension": ".py",
   "mimetype": "text/x-python",
   "name": "python",
   "nbconvert_exporter": "python",
   "pygments_lexer": "ipython3",
   "version": "3.10.11"
  },
  "orig_nbformat": 4
 },
 "nbformat": 4,
 "nbformat_minor": 2
}
