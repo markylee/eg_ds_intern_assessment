{
 "cells": [
  {
   "attachments": {},
   "cell_type": "markdown",
   "metadata": {},
   "source": [
    "### ETL Starcraft CSV\n",
    "\n",
    "Summary:  \n",
    "This file aims to input the player data into my local machine using postgreSQL. This is to have easier retrieval, while also showing how I would approach handling the player data in a real life context. This project is most likely capable without the use of SQL, but it is a nice habit to have, so that is what this is for. "
   ]
  },
  {
   "cell_type": "code",
   "execution_count": 1,
   "metadata": {},
   "outputs": [],
   "source": [
    "import psycopg2\n",
    "import csv\n",
    "\n",
    "conn = psycopg2.connect(database=\"postgres\",\n",
    "                        user='postgres', password='pass', \n",
    "                        host='localhost', port='5432'\n",
    ")\n",
    "\n",
    "conn.autocommit = True\n",
    "\n",
    "cursor = conn.cursor()\n",
    "\n",
    "\n",
    "# Create sql table \n",
    "cursor.execute(\"\"\"\n",
    "    DROP TABLE IF EXISTS starcraft_player_data; \n",
    "\n",
    "    CREATE TABLE starcraft_player_data(\n",
    "    GameID INT,\n",
    "    LeagueIndex INT,\n",
    "    Age INT,\n",
    "    HoursPerWeek INT,\n",
    "    TotalHours INT, \n",
    "    APM NUMERIC,\n",
    "    SelectByHotkeys NUMERIC,\n",
    "    AssignToHotkeys NUMERIC,\n",
    "    UniqueHotkeys NUMERIC,\n",
    "    MinimapAttacks NUMERIC,\n",
    "    MinimapRightClicks NUMERIC,\n",
    "    NumberOfPACs NUMERIC,\n",
    "    GapBetweenPACs NUMERIC,\n",
    "    ActionLatency NUMERIC,\n",
    "    ActionsInPAC NUMERIC,\n",
    "    TotalMapExplored NUMERIC,\n",
    "    WorkersMade NUMERIC,\n",
    "    UniqueUnitsMade NUMERIC,\n",
    "    ComplexUnitsMade NUMERIC,\n",
    "    ComplexAbilitiesUsed NUMERIC,\n",
    "    PRIMARY KEY (GameID));\n",
    "\"\"\")\n",
    "\n",
    "\n",
    "# Insert data into sql table \n",
    "with open('starcraft_player_data.csv', 'r') as f:\n",
    "    reader = csv.reader(f)\n",
    "    next(reader)\n",
    "    for row in reader: \n",
    "        cursor.execute(\n",
    "            \"INSERT INTO starcraft_player_data VALUES(%s, %s, NULLIF(%s, '?')::integer,NULLIF(%s, '?')::integer,NULLIF(%s, '?')::integer, %s, %s, %s, %s, %s, %s, %s, %s, %s, %s, %s, %s, %s, %s, %s)\", row\n",
    "        )\n",
    "conn.commit()\n",
    " \n",
    "# cursor.execute('SELECT * FROM starcraft_player_data')\n",
    "# print(cursor.fetchall())\n",
    "\n",
    "conn.close()"
   ]
  }
 ],
 "metadata": {
  "kernelspec": {
   "display_name": "Python 3",
   "language": "python",
   "name": "python3"
  },
  "language_info": {
   "codemirror_mode": {
    "name": "ipython",
    "version": 3
   },
   "file_extension": ".py",
   "mimetype": "text/x-python",
   "name": "python",
   "nbconvert_exporter": "python",
   "pygments_lexer": "ipython3",
   "version": "3.10.11"
  },
  "orig_nbformat": 4
 },
 "nbformat": 4,
 "nbformat_minor": 2
}
